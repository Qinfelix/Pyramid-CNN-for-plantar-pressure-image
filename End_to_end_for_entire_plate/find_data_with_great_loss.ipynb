{
 "cells": [
  {
   "cell_type": "code",
   "execution_count": 1,
   "metadata": {},
   "outputs": [],
   "source": [
    "import numpy as np\n",
    "import matplotlib.pyplot as plt\n",
    "import pandas as pd\n",
    "import torch \n",
    "import torch.nn as nn\n",
    "import torch.nn.functional as F\n",
    "import time\n",
    "import math\n",
    "# 数据预处理相关函数\n",
    "from Reader import Footscan_reader\n",
    "from Reader import gait_data_reader\n",
    "import random\n",
    "import pickle\n",
    "LEARING_RATE=0.001\n",
    "BATCH_SIZE=100\n",
    "INPUT_FEATURES=5\n",
    "HIDDEN_FEATURES_LIST=[32,64]\n",
    "KERNEL_SIZE_LIST=[(2,2),(3,3),(4,4),(3,3)]\n",
    "EPOCH_NUM=200\n",
    "DEVICE=torch.device('cuda')\n",
    "TIME_STEP=202\n",
    "footscan_reader = Footscan_reader()\n",
    "gaitdata_reader=gait_data_reader()\n"
   ]
  },
  {
   "attachments": {},
   "cell_type": "markdown",
   "metadata": {},
   "source": [
    "## 1.read the data\n"
   ]
  },
  {
   "cell_type": "code",
   "execution_count": 2,
   "metadata": {},
   "outputs": [
    {
     "name": "stdout",
     "output_type": "stream",
     "text": [
      "load all data from data buffer file\n",
      "\n",
      " ************************************************** \n",
      "\n"
     ]
    }
   ],
   "source": [
    "info_dic=pickle.load(open('info_dic.pkl','rb'))\n",
    "output_info=pickle.load(open('../../processed_data/final_output.pkl','rb'))\n",
    "input_array=np.load('../../processed_data/final_input.npy')\n",
    "input_array=np.expand_dims(input_array,2)\n",
    "\n",
    "print('load all data from data buffer file')\n",
    "print('\\n','*'*50,'\\n')"
   ]
  },
  {
   "cell_type": "code",
   "execution_count": 4,
   "metadata": {},
   "outputs": [
    {
     "name": "stdout",
     "output_type": "stream",
     "text": [
      "该部分数据中共有 20 位患者，平均每位患者有3.45次回访，共计69次,平均每次回访测试了6.565217391304348趟，共计453趟\n",
      "\n",
      " \n",
      "\n",
      "(453, 100, 1, 60, 63)\n",
      "-24    78\n",
      "-48    75\n",
      "-36    74\n",
      "-12    69\n",
      " 36    48\n",
      " 24    42\n",
      " 48    34\n",
      " 12    33\n",
      "dtype: int64\n"
     ]
    }
   ],
   "source": [
    "visit_list=gaitdata_reader.get_visit_list(output_info,info_dic)\n",
    "print(input_array.shape)\n",
    "group_record=[]\n",
    "for i in range(len(output_info)):\n",
    "    group_record.append(output_info[i].group)\n",
    "print(pd.value_counts(group_record))"
   ]
  },
  {
   "attachments": {},
   "cell_type": "markdown",
   "metadata": {},
   "source": [
    "## 2.shuffle the data and turn to tensor format`"
   ]
  },
  {
   "cell_type": "code",
   "execution_count": 7,
   "metadata": {},
   "outputs": [
    {
     "name": "stdout",
     "output_type": "stream",
     "text": [
      "453\n"
     ]
    }
   ],
   "source": [
    "valid_input=[]\n",
    "valid_moment=[]\n",
    "valid_delta=[]\n",
    "for i in range(input_array.shape[0]):\n",
    "    valid_input.append(input_array[i,:,:,:,:])\n",
    "    valid_moment.append(output_info[i].norm_data)\n",
    "    valid_delta.append(output_info[i].delta)\n",
    "\n",
    "\n",
    "#决定训练的task是lacld还是racld\n",
    "this_input=valid_input\n",
    "this_moment=valid_moment\n",
    "this_delta=valid_delta\n",
    "\n",
    "\n",
    "print(len(this_input))\n"
   ]
  },
  {
   "cell_type": "code",
   "execution_count": 8,
   "metadata": {},
   "outputs": [
    {
     "name": "stdout",
     "output_type": "stream",
     "text": [
      "45300\n",
      "torch.Size([45300, 1])\n",
      "tensor(7.1693)\n"
     ]
    }
   ],
   "source": [
    "# turn the label to tensor format\n",
    "label_list=[]\n",
    "for i in range(len(this_moment)):\n",
    "    moment=this_moment[i]\n",
    "    for j in range(100):\n",
    "        label_list.append(moment[j,3])\n",
    "print(len(label_list))\n",
    "LABEL=torch.stack(label_list)\n",
    "LABEL=torch.unsqueeze(LABEL,1)\n",
    "#对label放大10倍，这样就避免了doubel和float的精度问题\n",
    "LABEL=LABEL*100\n",
    "print(LABEL.shape)\n",
    "print(torch.mean(LABEL))"
   ]
  },
  {
   "cell_type": "code",
   "execution_count": 10,
   "metadata": {},
   "outputs": [
    {
     "name": "stdout",
     "output_type": "stream",
     "text": [
      "torch.Size([45300, 5, 60, 63])\n",
      "tensor(41.0210, dtype=torch.float64)\n"
     ]
    }
   ],
   "source": [
    "#处理input——每一帧的通道扩充到5——this frame, last frame, dif_before,next_frame,dif_next\n",
    "#同时要先把dif这个数据扩大10倍，使其与这一帧的数据同一个数量级，然后再把DATA的数字统一都都扩大100倍，使得和膝关节力矩一个数量级\n",
    "input_list=[]\n",
    "for i in range(len(this_input)):\n",
    "    pressure_video=torch.from_numpy(this_input[i])\n",
    "    t,c,h,w=pressure_video.shape\n",
    "    last_pressure=torch.zeros((h,w))\n",
    "    for j in range(100):\n",
    "        this_pressure=pressure_video[j,0,:,:]\n",
    "        if j==99:\n",
    "            next_pressure=torch.zeros((h,w))\n",
    "        else:\n",
    "            next_pressure=pressure_video[j+1,0,:,:]\n",
    "        #考虑进入时间因素（用delta来表示）\n",
    "        dif_former=(this_pressure-last_pressure)/ this_delta[i]*10\n",
    "        dif_latter=(next_pressure-this_pressure)/this_delta[i]*10\n",
    "        input_list.append(torch.stack([this_pressure,last_pressure,next_pressure,dif_former,dif_latter]))\n",
    "        last_pressure=this_pressure\n",
    "DATA=torch.stack(input_list)\n",
    "DATA=DATA*10\n",
    "print(DATA.shape)\n",
    "print(torch.mean(DATA))\n"
   ]
  },
  {
   "cell_type": "code",
   "execution_count": 14,
   "metadata": {},
   "outputs": [
    {
     "name": "stdout",
     "output_type": "stream",
     "text": [
      "Net(\n",
      "  (BN1): BatchNorm2d(5, eps=1e-05, momentum=0.1, affine=True, track_running_stats=True)\n",
      "  (pymarid_conv_1): Conv2d(5, 32, kernel_size=(2, 2), stride=(1, 1), padding=same)\n",
      "  (pymarid_conv_2): Conv2d(5, 32, kernel_size=(3, 3), stride=(1, 1), padding=same)\n",
      "  (pymarid_conv_3): Conv2d(5, 32, kernel_size=(4, 4), stride=(1, 1), padding=same)\n",
      "  (conv2): Sequential(\n",
      "    (0): ReLU()\n",
      "    (1): MaxPool2d(kernel_size=2, stride=2, padding=0, dilation=1, ceil_mode=False)\n",
      "    (2): BatchNorm2d(96, eps=1e-05, momentum=0.1, affine=True, track_running_stats=True)\n",
      "    (3): Conv2d(96, 64, kernel_size=(3, 3), stride=(1, 1), padding=same)\n",
      "    (4): ReLU()\n",
      "    (5): MaxPool2d(kernel_size=2, stride=2, padding=0, dilation=1, ceil_mode=False)\n",
      "  )\n",
      "  (Linear): Sequential(\n",
      "    (0): Linear(in_features=14400, out_features=1600, bias=True)\n",
      "    (1): ELU(alpha=1.0)\n",
      "    (2): Linear(in_features=1600, out_features=512, bias=True)\n",
      "    (3): ELU(alpha=1.0)\n",
      "    (4): Linear(in_features=512, out_features=1, bias=True)\n",
      "  )\n",
      ")\n",
      "torch.Size([100, 1])\n"
     ]
    }
   ],
   "source": [
    "#回归模型构建\n",
    "'''\n",
    "2023/4/22\n",
    "处理足压片段来预测步态周期的力矩曲线\n",
    "\n",
    "模型概况：\n",
    "    金字塔conv\n",
    "    flatten\n",
    "    linear*1\n",
    "\n",
    "输入输出：\n",
    "    输入：该时刻的足压图像+该帧的变化量(batch,channel=5,height=180,width=63)\n",
    "    输出：该时刻的膝关节力矩(batch)\n",
    "'''\n",
    "class Net(nn.Module):\n",
    "    def __init__(self,batch_size,input_features,hidden_features_list,kernel_size_list):\n",
    "        super(Net,self).__init__()\n",
    "\n",
    "        self.batch_size = batch_size\n",
    "        self.input_features = input_features\n",
    "        self.hidden_features_list=hidden_features_list\n",
    "        self.kernel_size_list=kernel_size_list\n",
    "\n",
    "        self.BN1=nn.BatchNorm2d(input_features).to(DEVICE)\n",
    "        self.pymarid_conv_1=nn.Conv2d(input_features,hidden_features_list[0],kernel_size_list[0],padding='same').to(DEVICE)                              \n",
    "        self.pymarid_conv_2=nn.Conv2d(input_features,hidden_features_list[0],kernel_size_list[1],padding='same').to(DEVICE)\n",
    "        self.pymarid_conv_3=nn.Conv2d(input_features,hidden_features_list[0],kernel_size_list[2],padding='same').to(DEVICE)\n",
    "        self.conv2=nn.Sequential(\n",
    "            nn.ReLU(),\n",
    "            nn.MaxPool2d(2),\n",
    "            nn.BatchNorm2d(hidden_features_list[0]*3),\n",
    "            nn.Conv2d(hidden_features_list[0]*3,hidden_features_list[1],kernel_size_list[3],padding='same'),\n",
    "            nn.ReLU(),\n",
    "            nn.MaxPool2d(2)\n",
    "        )\n",
    "        self.Linear=nn.Sequential(\n",
    "            nn.Linear(hidden_features_list[1]*15*15,1600),\n",
    "            nn.ELU(),\n",
    "            nn.Linear(1600,512),\n",
    "            nn.ELU(),\n",
    "            nn.Linear(512,1),\n",
    "        ).to(DEVICE)\n",
    "\n",
    "    def forward(self,x):\n",
    "        if x.ndim!=4:\n",
    "            raise ValueError('输入数据ndim不为4')\n",
    "        else:\n",
    "            batch,features,height,width= x.shape\n",
    "            if batch!=self.batch_size or features != self.input_features:\n",
    "                raise ValueError('输入数据batch size 或者 input features 与model不符')\n",
    "            else:\n",
    "                pyramid_conv_output_list=[self.pymarid_conv_1(x),self.pymarid_conv_2(x),self.pymarid_conv_3(x)]\n",
    "                pyramid_conv_output=torch.cat(pyramid_conv_output_list,dim=1)\n",
    "                conv2_output=self.conv2(pyramid_conv_output)\n",
    "                y=self.Linear(conv2_output.reshape(batch,-1))\n",
    "                return y\n",
    "\n",
    "model = Net(BATCH_SIZE,INPUT_FEATURES,HIDDEN_FEATURES_LIST,KERNEL_SIZE_LIST).to(DEVICE)     \n",
    "print(model)\n",
    "a = torch.ones((BATCH_SIZE,INPUT_FEATURES,60,63)).to(DEVICE)\n",
    "b = model(a)\n",
    "print(b.shape)"
   ]
  },
  {
   "cell_type": "code",
   "execution_count": 15,
   "metadata": {},
   "outputs": [
    {
     "name": "stdout",
     "output_type": "stream",
     "text": [
      "<class 'torch.Tensor'>\n"
     ]
    }
   ],
   "source": [
    "print(type(DATA))"
   ]
  },
  {
   "cell_type": "code",
   "execution_count": 17,
   "metadata": {},
   "outputs": [
    {
     "name": "stdout",
     "output_type": "stream",
     "text": [
      "torch.Size([45300, 5, 60, 63])\n",
      "torch.Size([45300, 1])\n",
      "453 453\n",
      "tensor(8888468., device='cuda:0', grad_fn=<MseLossBackward0>)\n",
      "397\n"
     ]
    }
   ],
   "source": [
    "#find the special data with 10k loss \n",
    "\n",
    "print(DATA.shape)\n",
    "print(LABEL.shape)\n",
    "CRITERION = nn.MSELoss(reduction='mean')\n",
    "x_list=torch.split(DATA,BATCH_SIZE,dim=0)\n",
    "y_list=torch.split(LABEL,BATCH_SIZE,dim=0)\n",
    "print(len(x_list),len(y_list))\n",
    "\n",
    "for i in range(len(x_list)):\n",
    "    pre=model(x_list[i].to(DEVICE).float()).float()\n",
    "    y=y_list[i].to(DEVICE)\n",
    "    y=y.float()\n",
    "    loss=CRITERION(pre,y)\n",
    "    if loss>10000:\n",
    "        print(loss)\n",
    "        print(i)\n",
    "\n"
   ]
  }
 ],
 "metadata": {
  "kernelspec": {
   "display_name": "torch",
   "language": "python",
   "name": "python3"
  },
  "language_info": {
   "codemirror_mode": {
    "name": "ipython",
    "version": 3
   },
   "file_extension": ".py",
   "mimetype": "text/x-python",
   "name": "python",
   "nbconvert_exporter": "python",
   "pygments_lexer": "ipython3",
   "version": "3.9.16"
  },
  "orig_nbformat": 4,
  "vscode": {
   "interpreter": {
    "hash": "4db59b7d75187098e315d254b15c141341555b825ecc6cc2bfff10e5cb68aad4"
   }
  }
 },
 "nbformat": 4,
 "nbformat_minor": 2
}
