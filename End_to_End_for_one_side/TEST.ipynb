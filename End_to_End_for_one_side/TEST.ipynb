{
 "cells": [
  {
   "cell_type": "code",
   "execution_count": 1,
   "metadata": {},
   "outputs": [
    {
     "name": "stdout",
     "output_type": "stream",
     "text": [
      "1.13.1\n",
      "Using cuda device\n"
     ]
    }
   ],
   "source": [
    "import torch \n",
    "import numpy as np\n",
    "print(torch.__version__)\n",
    "device = \"cuda\" if torch.cuda.is_available() else \"cpu\"\n",
    "print(f\"Using {device} device\")"
   ]
  },
  {
   "cell_type": "code",
   "execution_count": 13,
   "metadata": {},
   "outputs": [
    {
     "name": "stdout",
     "output_type": "stream",
     "text": [
      "torch.Size([10, 1])\n"
     ]
    }
   ],
   "source": [
    "x=torch.ones((10,1)).to(device)\n",
    "y=torch.ones((10,1)).to(device)*2\n",
    "y2=(x-y)*(x-y)\n",
    "print(y2.shape)"
   ]
  },
  {
   "cell_type": "code",
   "execution_count": 5,
   "metadata": {},
   "outputs": [
    {
     "name": "stdout",
     "output_type": "stream",
     "text": [
      "tensor([[10.5000],\n",
      "        [10.5000],\n",
      "        [10.5000],\n",
      "        [10.5000],\n",
      "        [10.5000],\n",
      "        [10.5000],\n",
      "        [10.5000],\n",
      "        [10.5000],\n",
      "        [10.5000],\n",
      "        [10.5000]])\n"
     ]
    }
   ],
   "source": [
    "a=torch.ones((10,1))*2\n",
    "b=a*10+1\n",
    "\n",
    "print(b/a)"
   ]
  },
  {
   "cell_type": "code",
   "execution_count": 4,
   "metadata": {},
   "outputs": [
    {
     "name": "stdout",
     "output_type": "stream",
     "text": [
      "(101, 3)\n"
     ]
    }
   ],
   "source": [
    "class GAIT_DATA():\n",
    "    def __init__(self,category,whichleg,name,week,count,data):\n",
    "        self=self\n",
    "        self.category=category\n",
    "        self.name=name\n",
    "        self.whichleg=whichleg\n",
    "        self.week=week\n",
    "        self.count=count\n",
    "        self.data=data\n",
    "category='kneemoment'\n",
    "whichleg='L'\n",
    "info=('qinyue','12','2')\n",
    "data_list=np.zeros((101,3))\n",
    "gaitdata=GAIT_DATA(category,whichleg,info[0],info[1],info[2],data_list)\n",
    "print(gaitdata.data.shape)"
   ]
  },
  {
   "cell_type": "code",
   "execution_count": 2,
   "metadata": {},
   "outputs": [
    {
     "name": "stdout",
     "output_type": "stream",
     "text": [
      "0 <class 'int'>\n"
     ]
    }
   ],
   "source": [
    "a=0\n",
    "b=3\n",
    "c=a//b\n",
    "print(c,type(c))\n"
   ]
  },
  {
   "cell_type": "code",
   "execution_count": 16,
   "metadata": {},
   "outputs": [
    {
     "ename": "TypeError",
     "evalue": "unsupported operand type(s) for -: 'list' and 'int'",
     "output_type": "error",
     "traceback": [
      "\u001b[1;31m---------------------------------------------------------------------------\u001b[0m",
      "\u001b[1;31mTypeError\u001b[0m                                 Traceback (most recent call last)",
      "\u001b[1;32md:\\CODE\\planar_pressure\\TEST.ipynb 单元格 2\u001b[0m in \u001b[0;36m4\n\u001b[0;32m      <a href='vscode-notebook-cell:/d%3A/CODE/planar_pressure/TEST.ipynb#W1sZmlsZQ%3D%3D?line=1'>2</a>\u001b[0m a\u001b[39m=\u001b[39mnp\u001b[39m.\u001b[39mlinspace(\u001b[39m-\u001b[39m\u001b[39m27\u001b[39m,\u001b[39m-\u001b[39m\u001b[39m1\u001b[39m,\u001b[39m27\u001b[39m)\n\u001b[0;32m      <a href='vscode-notebook-cell:/d%3A/CODE/planar_pressure/TEST.ipynb#W1sZmlsZQ%3D%3D?line=2'>3</a>\u001b[0m a\u001b[39m=\u001b[39m\u001b[39mlist\u001b[39m(a)\n\u001b[1;32m----> <a href='vscode-notebook-cell:/d%3A/CODE/planar_pressure/TEST.ipynb#W1sZmlsZQ%3D%3D?line=3'>4</a>\u001b[0m \u001b[39mprint\u001b[39m(a\u001b[39m-\u001b[39;49m\u001b[39m52\u001b[39;49m)\n",
      "\u001b[1;31mTypeError\u001b[0m: unsupported operand type(s) for -: 'list' and 'int'"
     ]
    }
   ],
   "source": [
    "\n",
    "a=np.linspace(-27,-1,27)\n",
    "a=list(a)\n",
    "print(type(a))"
   ]
  },
  {
   "cell_type": "code",
   "execution_count": 7,
   "metadata": {},
   "outputs": [
    {
     "name": "stdout",
     "output_type": "stream",
     "text": [
      "torch.Size([1])\n"
     ]
    }
   ],
   "source": [
    "a=torch.zeros(5)\n",
    "a=torch.split(a,2)\n",
    "print(a[2].shape)"
   ]
  },
  {
   "cell_type": "code",
   "execution_count": null,
   "metadata": {},
   "outputs": [],
   "source": [
    "model= torch.nn.Conv2d(3,16,3,device='cuda')\n",
    "model.to(device=device)\n",
    "test_x=torch.rand((3,64,64)).to(device)\n",
    "test_y=model(test_x)    \n",
    "print(test_y.shape)"
   ]
  },
  {
   "cell_type": "code",
   "execution_count": null,
   "metadata": {},
   "outputs": [],
   "source": [
    "y=torch.zeros((10,10,10,10))\n",
    "x=torch.ones((10,10,10,10))\n",
    "z=torch.stack((x,y),dim=1)\n",
    "print(z.shape)"
   ]
  },
  {
   "cell_type": "code",
   "execution_count": null,
   "metadata": {},
   "outputs": [],
   "source": [
    "a = [(1,1)]*4\n",
    "print(len(a))\n",
    "print(a[2:4])"
   ]
  },
  {
   "cell_type": "code",
   "execution_count": null,
   "metadata": {},
   "outputs": [],
   "source": [
    "test_x = torch.ones((25,235,1,50,35))\n",
    "train_x_list = torch.split(test_x,10,dim=0)\n",
    "print(train_x_list[2].shape)"
   ]
  },
  {
   "cell_type": "code",
   "execution_count": null,
   "metadata": {},
   "outputs": [],
   "source": [
    "from Reader import Footscan_reader\n",
    "reader = Footscan_reader()\n",
    "DATA,LABEL = reader.get_data('walk')"
   ]
  },
  {
   "cell_type": "code",
   "execution_count": 1,
   "metadata": {},
   "outputs": [
    {
     "name": "stdout",
     "output_type": "stream",
     "text": [
      "[4]\n"
     ]
    }
   ],
   "source": [
    "a=[1,2,3,4]\n",
    "b=a[-1:]\n",
    "print(b)"
   ]
  },
  {
   "cell_type": "code",
   "execution_count": 8,
   "metadata": {},
   "outputs": [
    {
     "name": "stdout",
     "output_type": "stream",
     "text": [
      "torch.Size([10, 16, 120, 50, 35])\n"
     ]
    }
   ],
   "source": [
    "m=torch.nn.Conv3d(1,16,(3,3,3),padding=1)\n",
    "x=torch.zeros(10,1,120,50,35)\n",
    "y=m(x)\n",
    "print(y.shape)"
   ]
  },
  {
   "cell_type": "code",
   "execution_count": 6,
   "metadata": {},
   "outputs": [
    {
     "name": "stdout",
     "output_type": "stream",
     "text": [
      "True\n"
     ]
    }
   ],
   "source": [
    "list=[('qinyue',12),('qinyue',24)]\n",
    "i=('qinyue',12)\n",
    "if i in list:\n",
    "    print('True')\n",
    "else:\n",
    "    print('flase')\n"
   ]
  }
 ],
 "metadata": {
  "kernelspec": {
   "display_name": "torch",
   "language": "python",
   "name": "python3"
  },
  "language_info": {
   "codemirror_mode": {
    "name": "ipython",
    "version": 3
   },
   "file_extension": ".py",
   "mimetype": "text/x-python",
   "name": "python",
   "nbconvert_exporter": "python",
   "pygments_lexer": "ipython3",
   "version": "3.9.16"
  },
  "orig_nbformat": 4,
  "vscode": {
   "interpreter": {
    "hash": "4db59b7d75187098e315d254b15c141341555b825ecc6cc2bfff10e5cb68aad4"
   }
  }
 },
 "nbformat": 4,
 "nbformat_minor": 2
}
